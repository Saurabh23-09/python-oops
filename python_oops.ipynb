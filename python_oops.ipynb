{
  "nbformat": 4,
  "nbformat_minor": 0,
  "metadata": {
    "colab": {
      "provenance": []
    },
    "kernelspec": {
      "name": "python3",
      "display_name": "Python 3"
    },
    "language_info": {
      "name": "python"
    }
  },
  "cells": [
    {
      "cell_type": "markdown",
      "source": [
        " Q1- What is Object-Oriented Programming (OOP)?\n",
        "   * <!-- Object-Oriented Programming (OOP) is a programming paradigm, or a way of thinking about and structuring your code, that is based on the concept of \"objects\". These objects are like containers that hold both data (called attributes or properties) and the code that operates on that data (called methods or functions). -->\n",
        "Q2-  What is a class in OOP?\n",
        "    \n",
        "     * <!--  In OOP, a class is a blueprint or a template for creating objects. It defines the structure and behavior of objects, including their attributes (data) and methods (functions). -->\n",
        "\n",
        " Q3-What is an object in OOP?\n",
        "   * <!-- In OOP, an object is an instance of a class. It's a concrete realization of the blueprint defined by the class. Objects have their own unique set of attributes (data) and can perform actions defined by their methods (functions). -->\n",
        "\n",
        " Q4-What is the difference between abstraction and encapsulation?\n",
        "  * <!-- Both abstraction and encapsulation are key principles of OOP, but they serve different purposes:\n",
        "\n",
        " Abstraction\n",
        "\n",
        " Focus: Hiding complex implementation details and showing only the essential features of an object to the user.\n",
        "Goal:\n",
        " Simplify complexity by providing a high-level interface to interact with objects, without needing to understand the internal workings.\n",
        "Analogy:\n",
        " Think of a TV remote. You use the buttons to change channels, adjust volume, etc., without knowing the intricate electronics inside the remote or the TV. The remote abstracts the complexity.\n",
        "\n",
        "Encapsulation\n",
        "\n",
        "Focus:\n",
        "  Bundling data (attributes) and the methods (functions) that operate on that data within a single unit (the object).\n",
        "Goal:\n",
        "    Protect data integrity and control access to it. It's like creating a capsule around the data, allowing only specific ways to interact with it.\n",
        "Analogy:\n",
        "     Think of a medicine capsule. It contains the medicine (data) and has a specific way to open and access it (methods). This protects the medicine from contamination and ensures it's taken correctly. -->\n",
        "\n",
        " Q5-What are dunder methods in Python?\n",
        "    * <!-- In Python, dunder methods (also called \"magic methods\" or \"special methods\") are methods with double underscores at the beginning and end of their names (e.g., __init__, __str__, __add__). They are special methods that Python uses to provide functionality to classes and objects -->\n",
        "\n",
        " Q6 -Explain the concept of inheritance in OOP?\n",
        "   *  <!-- Inheritance is one of the fundamental principles of OOP that allows you to create new classes (called derived classes or subclasses) based on existing classes (called base classes or superclasses). The derived class inherits the attributes and methods of the base class, and can also add its own unique properties and behaviors. -->\n",
        "\n",
        " Q7- What is polymorphism in OOP?\n",
        "   * <!-- Polymorphism, meaning \"many forms,\" is a concept in OOP that allows objects of different classes to be treated as objects of a common type. This means that you can use a single interface to interact with objects of various classes, and they will respond differently based on their individual implementations. -->\n",
        " Q8- How is encapsulation achieved in Python?\n",
        "    * <!-- Encapsulation in Python is achieved through conventions and programming practices rather than enforced access modifiers like in some other languages (e.g., Java). Python follows the principle of \"we're all consenting adults here,\" meaning it relies on developers to respect the intended usage of class members. -->\n",
        "\n",
        " Q9- What is a constructor in Python?\n",
        "    * <!-- In Python, a constructor is a special method within a class that is automatically called when an object of that class is created. It's used to initialize the object's attributes with initial values, set up any necessary resources, and prepare the object for use. -->\n",
        "\n",
        " Q10-What are class and static methods in Python?\n",
        " * <!-- Both class and static methods are special types of methods that are associated with a class rather than an instance of the class (an object). They offer different ways to organize and structure your code within a class.\n",
        "\n",
        "Class Methods\n",
        "\n",
        "Focus:\n",
        "    Class methods operate on the class itself, not on specific instances. They have access to class-level attributes and can modify them.\n",
        "\n",
        "Defined with @classmethod:\n",
        "    Class methods are defined using the @classmethod decorator above the method definition.\n",
        "\n",
        "cls Parameter:\n",
        "      The first parameter of a class method is conventionally named cls, which refers to the class itself, similar to how self refers to an instance in regular methods.\n",
        "\n",
        "Static Methods\n",
        "\n",
        "Focus:\n",
        "      Static methods are similar to regular functions but are grouped within a class for organizational purposes. They don't have access to instance or class-level attributes directly.\n",
        "\n",
        "Defined with @staticmethod:\n",
        "       Static methods are defined using the @staticmethod decorator.\n",
        "\n",
        "No Special Parameters:\n",
        "        Static methods don't have any special first parameter like self or cls. They behave like regular functions. -->\n",
        "\n",
        " Q11-What is method overloading in Python?\n",
        "   * <!-- Method overloading is the ability to define multiple methods in a class with the same name but with different parameters. This allows you to provide different implementations of the same method, tailored to different input types or numbers of arguments. -->\n",
        "\n",
        " Q12-What is method overriding in OOP?\n",
        "   * <!-- Method overriding is a language feature that allows a subclass or child class to provide a specific implementation of a method that is already provided by one of its superclasses or parent classes. -->\n",
        "\n",
        " Q13-What is a property decorator in Python?\n",
        "   * <!-- The @property decorator in Python is a powerful tool that allows you to define methods that act like attributes. Essentially, it lets you access methods as if they were attributes, without needing to write parentheses. -->\n",
        "\n",
        " Q14-Why is polymorphism important in OOP?\n",
        "  * <!-- Polymorphism, meaning \"many forms,\" is a crucial concept in OOP that allows objects of different classes to be treated as objects of a common type. This has several significant benefits that make it essential for writing flexible, maintainable, and extensible code.\n",
        "\n",
        " Here are some key reasons why polymorphism is important in OOP:\n",
        "\n",
        " * Flexibility and Reusability:\n",
        "\n",
        "  Polymorphism allows you to write code that can work with objects of various types without needing to know their specific class. This makes your code more flexible and reusable because it can adapt to different scenarios.\n",
        "\n",
        "For example,\n",
        "  you could write a function to calculate the area of a shape, and it would work with objects representing circles, squares, triangles, etc., as long as they all have an area() method.\n",
        "\n",
        "* Extensibility and Maintainability:\n",
        "\n",
        "  Polymorphism makes it easier to extend your code with new functionality without modifying existing code. You can simply create new classes that implement the common interface and integrate them seamlessly into your existing system.\n",
        "\n",
        "  This reduces the risk of introducing bugs and makes your code more maintainable over time.\n",
        "\n",
        "* Loose Coupling:\n",
        "\n",
        "  Polymorphism promotes loose coupling between different parts of your code. This means that changes in one part of the system are less likely to affect other parts, making your code more robust and easier to evolve.\n",
        "\n",
        "* Code Organization and Readability:\n",
        "\n",
        "  Polymorphism allows you to organize your code into a hierarchy of classes, where subclasses inherit and specialize the behavior of their superclasses. This can make your code more structured and easier to\n",
        "  understand.\n",
        "\n",
        "* Supporting Design Patterns:\n",
        "\n",
        "  Polymorphism is a fundamental building block for many design patterns, such as the Strategy pattern, the Template Method pattern, and the Factory pattern. These patterns provide solutions to common software design problems and can significantly improve the quality of your code. -->\n",
        "\n",
        " Q15-What is an abstract class in Python?\n",
        "    * <!-- In Python, an abstract class is a class that cannot be instantiated on its own. It serves as a blueprint for other classes (called concrete classes) and defines a common interface that its subclasses must implement -->\n",
        "\n",
        " Q16-What are the advantages of OOP?\n",
        "  * <!-- OOP offers several benefits that make it a popular and powerful programming paradigm:\n",
        "\n",
        "Modularity and Reusability:\n",
        "\n",
        " OOP allows you to break down complex problems into smaller, more manageable modules (classes and objects). These modules can be reused in different parts of your program or even in other projects, promoting code reusability and reducing redundancy.\n",
        "\n",
        "Data Encapsulation and Security:\n",
        "\n",
        "   Encapsulation protects data integrity by bundling it with the methods that operate on it. This prevents unintended access or modification of data from outside the object, enhancing security and reducing the risk of errors.\n",
        "\n",
        "Abstraction and Simplicity:\n",
        "\n",
        "   Abstraction hides complex implementation details and presents a simplified interface to the user. This makes code easier to understand and use, as you don't need to know the inner workings of an object to interact with it.\n",
        "\n",
        "Flexibility and Maintainability:\n",
        "\n",
        "  OOP allows you to easily modify and extend your code without affecting other parts of the system. Changes to one class or object are localized and don't ripple through the entire program, making maintenance easier and reducing the risk of introducing bugs.\n",
        "\n",
        "Code Organization and Structure:\n",
        "\n",
        "  OOP provides a clear and structured way to organize your code into classes and objects, improving readability and making it easier to navigate and understand complex systems.\n",
        " -->\n",
        "\n",
        " Q17=What is the difference between a class variable and an instance variable?\n",
        "*  <!-- Class Variables\n",
        "\n",
        "Definition:\n",
        "   Class variables are declared within the class but outside of any methods. They are shared by all instances (objects) of the class.\n",
        "Scope:\n",
        "   They are accessible to all instances of the class as well as the class itself.\n",
        "Modification:\n",
        "    If a class variable is modified, the change is reflected in all instances of the class.\n",
        "Use Cases:\n",
        "   Storing data that is common to all instances of the class, such as constants or configuration settings.\n",
        "\n",
        "Instance Variables\n",
        "\n",
        "Definition:\n",
        "      Instance variables are declared inside the constructor (__init__ method) or other instance methods. They are unique to each instance of the class.\n",
        "Scope:\n",
        "    They are accessible only within the instance (object) they belong to.\n",
        "Modification:\n",
        "    Modifying an instance variable of one object does not affect the instance variables of other objects of the same class.\n",
        "Use Cases:\n",
        "   Storing data that is specific to each instance of the class, such as the name, age, or other properties of an object. -->\n",
        "\n",
        " Q18-What is multiple inheritance in Python?\n",
        "    * <!-- Multiple inheritance is a feature in object-oriented programming where a class can inherit from multiple base classes. This means that a class can inherit attributes and methods from more than one parent class. -->\n",
        "\n",
        " Q19-Explain the purpose of ‘’__str__’ and ‘__repr__’ ‘ methods in PythonH ?\n",
        "  * <!-- Both __str__ and __repr__ are dunder (double underscore) methods in Python that are used to represent objects as strings. They serve different purposes and are intended for different audiences:\n",
        "\n",
        "__str__\n",
        "\n",
        "Purpose:\n",
        "  To provide a user-friendly, informal string representation of an object. It's intended for end-users to read and understand.\n",
        "Called by:\n",
        "  str() function, print() function, and f-strings.\n",
        "Should return:\n",
        "   A string that is easy to read and understand, often omitting details that are not relevant to the user.\n",
        "__repr__\n",
        "\n",
        "Purpose:\n",
        "   To provide a more detailed, unambiguous string representation of an object. It's intended for developers to debug and understand the object's internal state.\n",
        "Called by:\n",
        "  repr() function and when you type the object's name in the interactive interpreter.\n",
        "Should return:\n",
        " A string that could be used to recreate the object, ideally using the same code that was used to create it. -->\n",
        "\n",
        " Q20-What is the significance of the ‘super()’ function in Python?\n",
        " * <!-- The super() function is used to call methods of a superclass (parent class) from a subclass (child class). It's a powerful tool that allows you to extend the functionality of inherited methods while maintaining a clear and organized code structure.\n",
        "\n",
        "Here are the key significances of the super() function:\n",
        "\n",
        "Avoiding Redundancy and Promoting Code Reusability:\n",
        "\n",
        "super() allows you to avoid rewriting code that is already defined in the superclass. By calling the superclass's method using super(), you can reuse the existing functionality and only add or modify the specific parts that are unique to the subclass. This reduces redundancy and makes your code more maintainable.\n",
        "\n",
        "Facilitating Method Overriding:\n",
        "\n",
        "Method overriding is a key concept in OOP where a subclass provides a specific implementation for a method that is already defined in its superclass. super() makes method overriding easier by providing a way to call the superclass's version of the method from within the overriding method in the subclass. This allows you to extend or modify the behavior of the inherited method while still leveraging its existing logic.\n",
        "\n",
        "Maintaining the Method Resolution Order (MRO):\n",
        "\n",
        "   In cases of multiple inheritance, where a class inherits from multiple superclasses, super() ensures that the methods are called in the correct order according to the Method Resolution Order (MRO). This helps avoid unexpected behavior and ensures that all relevant superclass methods are executed.\n",
        "\n",
        "Improving Code Readability and Maintainability:\n",
        "\n",
        "  Using super() makes your code more readable and easier to understand by clearly indicating the relationship between the subclass and its superclass. It also improves maintainability by making it easier to modify or extend the code without breaking the inheritance hierarchy. -->\n",
        "\n",
        " Q21-What is the significance of the __del__ method in Python?\n",
        " * <!-- In Python, the __del__ method is a special method, also known as a destructor. It is called when an object is about to be destroyed or garbage collected.\n",
        "\n",
        "Purpose and Significance:\n",
        "\n",
        "The primary significance of the __del__ method is to perform cleanup actions before an object is removed from memory. This can include tasks like:\n",
        "\n",
        "Releasing Resources:\n",
        "    Closing files, network connections, or database connections that were opened by the object.\n",
        "Cleaning Up External State:\n",
        "     Deleting temporary files or removing any external effects the object might have had.\n",
        "Finalizing Operations:\n",
        "     Performing any final computations or actions that need to be done before the object is destroyed. -->\n",
        "\n",
        " Q22-What is the difference between @staticmethod and @classmethod in Python?\n",
        "   * <!-- Both @staticmethod and @classmethod are decorators used to define methods that are bound to a class rather than an instance of the class. However, they differ in how they interact with the class and their intended use cases.\n",
        "\n",
        "@staticmethod\n",
        "\n",
        "Definition:\n",
        "    A static method is a method that is bound to a class and doesn't have access to the instance or the class itself. It behaves like a regular function that happens to be grouped within a class for organizational purposes.\n",
        "Parameters:\n",
        "    It doesn't take any implicit first argument like self (instance) or cls (class).\n",
        "Use Cases:\n",
        "   Typically used for utility functions or helper methods that are related to the class but don't need access to its internal state.\n",
        "\n",
        "@classmethod\n",
        "\n",
        "Definition:\n",
        "    A class method is a method that is bound to a class and has access to the class itself (but not a specific instance). It receives the class as the implicit first argument, conventionally named cls.\n",
        "Parameters:\n",
        "   It takes the class (cls) as the implicit first argument.\n",
        "Use Cases:\n",
        "    Often used for factory methods (methods that create and return instances of the class) or for operations that modify class-level attributes. -->\n",
        "\n",
        " Q23-How does polymorphism work in Python with inheritance?\n",
        "  * <!-- Polymorphism, meaning \"many forms,\" is a fundamental concept in object-oriented programming that allows objects of different classes to be treated as objects of a common type. This is achieved through inheritance and method overriding.\n",
        "\n",
        "How it Works\n",
        "\n",
        "Inheritance:\n",
        "   A subclass inherits methods from its superclass. This establishes a relationship where the subclass can be treated as an instance of the superclass.\n",
        "\n",
        "Method Overriding:\n",
        " A subclass can provide its own implementation for a method that is already defined in its superclass. This is called method overriding.\n",
        "\n",
        "Polymorphic Behavior:\n",
        "  When a method is called on an object, Python determines the appropriate method to execute based on the object's actual class. If the object belongs to a subclass that has overridden the method, the subclass's version is executed. Otherwise, the superclass's version is executed. -->\n",
        "\n",
        " Q24-What is method chaining in Python OOP?\n",
        "  * <!-- Method chaining is a programming technique in which you call multiple methods on an object in a single line of code, one after the other. This is achieved by having each method return the object itself (self) so that the next method can be called directly on the returned object. -->\n",
        "\n",
        " Q25-What is the purpose of the __call__ method in Python?\n",
        "  * <!-- The __call__ method in Python allows you to make objects of a class callable, meaning you can use them like functions. When you define the __call__ method in a class, you can then use instances of that class followed by parentheses, as if you were calling a function.\n",
        "\n",
        "Purpose\n",
        "\n",
        "  The primary purpose of the __call__ method is to enable objects to behave like functions, providing a way to execute custom logic when an object is \"called.\" -->"
      ],
      "metadata": {
        "id": "DcN6cLXEniFy"
      }
    },
    {
      "cell_type": "markdown",
      "source": [
        "Q1 -Create a parent class Animal with a method speak() that prints a generic message. Create a child class Dog that overrides the speak() method to print \"Bark!\".\n",
        "\n",
        " * (1)  Write a program to create an abstract class Shape with a method area(). Derive classes Circle and Rectangle from it and implement the area() method in both.\n",
        "* (2)  Implement a multi-level inheritance scenario where a class Vehicle has an attribute type. Derive a class Car and further derive a class ElectricCar that adds a battery attribute."
      ],
      "metadata": {
        "id": "J-6UxqvbB2x_"
      }
    },
    {
      "source": [
        "animal = Animal()\n",
        "animal.speak()  # Output: Generic animal sound\n",
        "\n",
        "dog = Dog()\n",
        "dog.speak()     # Output: Bark!"
      ],
      "cell_type": "code",
      "metadata": {
        "colab": {
          "base_uri": "https://localhost:8080/"
        },
        "id": "5Pjrb6ddAY6K",
        "outputId": "18fe3ca6-7f86-4e4f-8eb1-24568f3a1e78"
      },
      "execution_count": 3,
      "outputs": [
        {
          "output_type": "stream",
          "name": "stdout",
          "text": [
            "Generic animal sound\n",
            "Bark!\n"
          ]
        }
      ]
    },
    {
      "source": [
        "circle = Circle(5)\n",
        "print(f\"Area of circle: {circle.area()}\")\n",
        "\n",
        "rectangle = Rectangle(4, 6)\n",
        "print(f\"Area of rectangle: {rectangle.area()}\")"
      ],
      "cell_type": "code",
      "metadata": {
        "colab": {
          "base_uri": "https://localhost:8080/"
        },
        "id": "Cf6H8xohAx7O",
        "outputId": "21395aa9-3690-4077-accc-33f06427e87e"
      },
      "execution_count": 6,
      "outputs": [
        {
          "output_type": "stream",
          "name": "stdout",
          "text": [
            "Area of circle: 78.53981633974483\n",
            "Area of rectangle: 24\n"
          ]
        }
      ]
    },
    {
      "source": [
        "class Vehicle:\n",
        "    def __init__(self, type):\n",
        "        self.type = type\n",
        "\n",
        "class Car(Vehicle):\n",
        "    def __init__(self, type, model):\n",
        "        super().__init__(type)\n",
        "        self.model = model\n",
        "\n",
        "class ElectricCar(Car):\n",
        "    def __init__(self, type, model, battery_capacity):\n",
        "        super().__init__(type, model)\n",
        "        self.battery_capacity = battery_capacity\n",
        "\n",
        "my_electric_car = ElectricCar(\"Electric\", \"Tesla Model S\", \"100 kWh\")\n",
        "print(my_electric_car.type)         # Output: Electric\n",
        "print(my_electric_car.model)        # Output: Tesla Model S\n",
        "print(my_electric_car.battery_capacity)  # Output: 100 kWh"
      ],
      "cell_type": "code",
      "metadata": {
        "colab": {
          "base_uri": "https://localhost:8080/"
        },
        "id": "yPDESsTSBGyy",
        "outputId": "88e31fde-7d1a-4c05-fa22-8b481cf1deee"
      },
      "execution_count": 8,
      "outputs": [
        {
          "output_type": "stream",
          "name": "stdout",
          "text": [
            "Electric\n",
            "Tesla Model S\n",
            "100 kWh\n"
          ]
        }
      ]
    },
    {
      "cell_type": "markdown",
      "source": [
        "Demonstrate polymorphism by creating a base class Bird with a method fly(). Create two derived classes Sparrow and Penguin that override the fly() method"
      ],
      "metadata": {
        "id": "I2WbCtM3CZiK"
      }
    },
    {
      "source": [
        "class Bird:\n",
        "    def fly(self):\n",
        "        print(\"Generic bird flying behavior\")\n",
        "\n",
        "class Sparrow(Bird):\n",
        "    def fly(self):\n",
        "        print(\"Sparrows fly in the sky.\")\n",
        "\n",
        "class Penguin(Bird):\n",
        "    def fly(self):\n",
        "        print(\"Penguins cannot fly, but they can swim.\")\n",
        "\n",
        "# Create instances of the derived classes\n",
        "sparrow = Sparrow()\n",
        "penguin = Penguin()\n",
        "\n",
        "# Using the polymorphic method\n",
        "sparrow.fly()  # Output: Sparrows fly in the sky.\n",
        "penguin.fly()  # Output: Penguins cannot fly, but they can swim."
      ],
      "cell_type": "code",
      "metadata": {
        "colab": {
          "base_uri": "https://localhost:8080/"
        },
        "id": "m0gPfn4lCbfO",
        "outputId": "e8026453-8c5b-447b-8c92-5213af7f709d"
      },
      "execution_count": 9,
      "outputs": [
        {
          "output_type": "stream",
          "name": "stdout",
          "text": [
            "Sparrows fly in the sky.\n",
            "Penguins cannot fly, but they can swim.\n"
          ]
        }
      ]
    },
    {
      "cell_type": "markdown",
      "source": [
        "Write a program to demonstrate encapsulation by creating a class BankAccount with private attributes balance and methods to deposit, withdraw, and check balance."
      ],
      "metadata": {
        "id": "HEgJVlEWCrjz"
      }
    },
    {
      "source": [
        "class BankAccount:\n",
        "    def __init__(self, initial_balance=0):\n",
        "        self.__balance = initial_balance  # Private attribute with double underscore\n",
        "\n",
        "    def deposit(self, amount):\n",
        "        if amount > 0:\n",
        "            self.__balance += amount\n",
        "            print(f\"Deposited: ${amount:.2f}\")\n",
        "        else:\n",
        "            print(\"Invalid deposit amount.\")\n",
        "\n",
        "    def withdraw(self, amount):\n",
        "        if 0 < amount <= self.__balance:\n",
        "            self.__balance -= amount\n",
        "            print(f\"Withdrawn: ${amount:.2f}\")\n",
        "        else:\n",
        "            print(\"Insufficient funds or invalid withdrawal amount.\")\n",
        "\n",
        "    def check_balance(self):\n",
        "        print(f\"Current balance: ${self.__balance:.2f}\")\n",
        "\n",
        "# Create an account\n",
        "account = BankAccount(1000)\n",
        "\n",
        "class BankAccount:\n",
        "    def __init__(self, initial_balance=0):\n",
        "        self.__balance = initial_balance  # Private attribute with double underscore\n",
        "\n",
        "    def deposit(self, amount):\n",
        "        if amount > 0:\n",
        "            self.__balance += amount\n",
        "            print(f\"Deposited: ${amount:.2f}\")\n",
        "        else:\n",
        "            print(\"Invalid deposit amount.\")\n",
        "\n",
        "    def withdraw(self, amount):\n",
        "        if 0 < amount <= self.__balance:\n",
        "            self.__balance -= amount\n",
        "            print(f\"Withdrawn: ${amount:.2f}\")\n",
        "        else:\n",
        "            print(\"Insufficient funds or invalid withdrawal amount.\")\n",
        "\n",
        "    def check_balance(self):\n",
        "        print(f\"Current balance: ${self.__balance:.2f}\")\n",
        "\n",
        "# Create an account\n",
        "account = BankAccount(1000)\n",
        "\n",
        "# Perform operations\n",
        "account.deposit(500)\n",
        "account.withdraw(200)"
      ],
      "cell_type": "code",
      "metadata": {
        "colab": {
          "base_uri": "https://localhost:8080/"
        },
        "id": "nylYsO4CCs02",
        "outputId": "57c1f5b7-105e-424f-e7d4-213ed58c1ccb"
      },
      "execution_count": 11,
      "outputs": [
        {
          "output_type": "stream",
          "name": "stdout",
          "text": [
            "Deposited: $500.00\n",
            "Withdrawn: $200.00\n"
          ]
        }
      ]
    },
    {
      "cell_type": "markdown",
      "source": [
        "Demonstrate runtime polymorphism using a method play() in a base class Instrument. Derive classes Guitar and Piano that implement their own version of play().\n"
      ],
      "metadata": {
        "id": "2BdLr4QZDRXX"
      }
    },
    {
      "source": [
        "class Instrument:\n",
        "    def play(self):\n",
        "        print(\"Generic instrument sound\")\n",
        "\n",
        "class Guitar(Instrument):\n",
        "    def play(self):\n",
        "        print(\"Strumming the guitar strings\")\n",
        "\n",
        "class Piano(Instrument):\n",
        "    def play(self):\n",
        "        print(\"Playing piano keys\")\n",
        "\n",
        "# Create instances of the derived classes\n",
        "guitar = Guitar()\n",
        "piano = Piano()\n",
        "\n",
        "# Demonstrate runtime polymorphism\n",
        "instruments = [guitar, piano]  # List of instruments\n",
        "\n",
        "for instrument in instruments:\n",
        "    instrument.play()  # The correct play() method is called at runtime"
      ],
      "cell_type": "code",
      "metadata": {
        "colab": {
          "base_uri": "https://localhost:8080/"
        },
        "id": "4Th74FTKDSpP",
        "outputId": "b6fbd3a4-c394-4cb3-a9f2-186bb8e4dc73"
      },
      "execution_count": 12,
      "outputs": [
        {
          "output_type": "stream",
          "name": "stdout",
          "text": [
            "Strumming the guitar strings\n",
            "Playing piano keys\n"
          ]
        }
      ]
    },
    {
      "cell_type": "markdown",
      "source": [
        "Create a class MathOperations with a class method add_numbers() to add two numbers and a static method subtract_numbers() to subtract two numbers."
      ],
      "metadata": {
        "id": "qhRdMxVVDbYE"
      }
    },
    {
      "source": [
        "class MathOperations:\n",
        "    @classmethod\n",
        "    def add_numbers(cls, num1, num2):\n",
        "        \"\"\"Adds two numbers together.\"\"\"\n",
        "        return num1 + num2\n",
        "\n",
        "    @staticmethod\n",
        "    def subtract_numbers(num1, num2):\n",
        "        \"\"\"Subtracts two numbers.\"\"\"\n",
        "        return num1 - num2\n",
        "\n",
        "# Example usage:\n",
        "result_add = MathOperations.add_numbers(5, 3)\n",
        "print(f\"Addition result: {result_add}\")  # Output: Addition result: 8\n",
        "\n",
        "result_subtract = MathOperations.subtract_numbers(10, 4)\n",
        "print(f\"Subtraction result: {result_subtract}\")  # Output: Subtraction result: 6"
      ],
      "cell_type": "code",
      "metadata": {
        "colab": {
          "base_uri": "https://localhost:8080/"
        },
        "id": "RG7OevtgDcdx",
        "outputId": "e18c6948-beaf-44ee-e62a-eb39d80c1eba"
      },
      "execution_count": 13,
      "outputs": [
        {
          "output_type": "stream",
          "name": "stdout",
          "text": [
            "Addition result: 8\n",
            "Subtraction result: 6\n"
          ]
        }
      ]
    },
    {
      "cell_type": "markdown",
      "source": [
        "Implement a class Person with a class method to count the total number of persons created. 9. Write a class Fraction with attributes numerator and denominator. Override the str method to display the fraction as \"numerator/denominator\"."
      ],
      "metadata": {
        "id": "SPG0nYRBDlLy"
      }
    },
    {
      "source": [
        "class Person:\n",
        "    count = 0  # Class variable to track the number of persons\n",
        "\n",
        "    def __init__(self, name):\n",
        "        self.name = name\n",
        "        Person.count += 1  # Increment count when a new person is created\n",
        "\n",
        "    @classmethod\n",
        "    def get_total_persons(cls):\n",
        "        \"\"\"Returns the total number of persons created.\"\"\"\n",
        "        return cls.count\n",
        "\n",
        "class Fraction:\n",
        "    def __init__(self, numerator, denominator):\n",
        "        self.numerator = numerator\n",
        "        self.denominator = denominator\n",
        "\n",
        "    def __str__(self):\n",
        "        return f\"{self.numerator}/{self.denominator}\"\n",
        "\n",
        "# Example usage for Person class\n",
        "person1 = Person(\"Alice\")\n",
        "person2 = Person(\"Bob\")\n",
        "total_persons = Person.get_total_persons()\n",
        "print(f\"Total persons created: {total_persons}\")  # Output: Total persons created: 2\n",
        "\n",
        "# Example usage for Fraction class\n",
        "fraction = Fraction(3, 4)\n",
        "print(fraction)  # Output: 3/4"
      ],
      "cell_type": "code",
      "metadata": {
        "colab": {
          "base_uri": "https://localhost:8080/"
        },
        "id": "b0oPJrC3DmRA",
        "outputId": "24ac0fcf-f506-4d20-d5e3-1bbccb2d8e52"
      },
      "execution_count": 14,
      "outputs": [
        {
          "output_type": "stream",
          "name": "stdout",
          "text": [
            "Total persons created: 2\n",
            "3/4\n"
          ]
        }
      ]
    },
    {
      "cell_type": "markdown",
      "source": [
        "Demonstrate operator overloading by creating a class Vector and overriding the add method to add two vectors."
      ],
      "metadata": {
        "id": "kykE2U7PD0Uc"
      }
    },
    {
      "source": [
        "class Vector:\n",
        "    def __init__(self, x, y):\n",
        "        self.x = x\n",
        "        self.y = y\n",
        "\n",
        "    def __add__(self, other):\n",
        "        \"\"\"Overloads the + operator to add two vectors.\"\"\"\n",
        "        return Vector(self.x + other.x, self.y + other.y)\n",
        "\n",
        "    def __str__(self):\n",
        "        \"\"\"Returns a string representation of the vector.\"\"\"\n",
        "        return f\"({self.x}, {self.y})\"\n",
        "\n",
        "# Create two vectors\n",
        "v1 = Vector(2, 3)\n",
        "v2 = Vector(4, 5)\n",
        "\n",
        "# Add the vectors using the overloaded + operator\n",
        "v3 = v1 + v2\n",
        "\n",
        "# Print the result\n",
        "print(f\"v1 + v2 = {v3}\")  # Output: v1 + v2 = (6, 8"
      ],
      "cell_type": "code",
      "metadata": {
        "colab": {
          "base_uri": "https://localhost:8080/"
        },
        "id": "DU39VPkwD1uc",
        "outputId": "4071ad5a-8e09-4c18-e450-897453d13d80"
      },
      "execution_count": 15,
      "outputs": [
        {
          "output_type": "stream",
          "name": "stdout",
          "text": [
            "v1 + v2 = (6, 8)\n"
          ]
        }
      ]
    },
    {
      "cell_type": "markdown",
      "source": [
        "Create a class Person with attributes name and age. Add a method greet() that prints \"Hello, my name is {name} and I am {age} years old."
      ],
      "metadata": {
        "id": "T2l0mx1sECkr"
      }
    },
    {
      "source": [
        "class Person:\n",
        "    def __init__(self, name, age):\n",
        "        self.name = name\n",
        "        self.age = age\n",
        "\n",
        "    def greet(self):\n",
        "        print(f\"Hello, my name is {self.name} and I am {self.age} years old.\")\n",
        "\n",
        "# Example usage\n",
        "person = Person(\"Alice\", 30)\n",
        "person.greet()  # Output: Hello, my name is Alice and I am 30 years old."
      ],
      "cell_type": "code",
      "metadata": {
        "colab": {
          "base_uri": "https://localhost:8080/"
        },
        "id": "6iAzeaQzEEzP",
        "outputId": "9dfe60b7-c313-45c8-edff-b1c063de4532"
      },
      "execution_count": 16,
      "outputs": [
        {
          "output_type": "stream",
          "name": "stdout",
          "text": [
            "Hello, my name is Alice and I am 30 years old.\n"
          ]
        }
      ]
    },
    {
      "cell_type": "markdown",
      "source": [
        "Implement a class Student with attributes name and grades. Create a method average_grade() to compute the average of the grades."
      ],
      "metadata": {
        "id": "3-HOGTF4EON-"
      }
    },
    {
      "source": [
        "class Student:\n",
        "    def __init__(self, name, grades):\n",
        "        self.name = name\n",
        "        self.grades = grades\n",
        "\n",
        "    def average_grade(self):\n",
        "        if self.grades:  # Check if grades list is not empty\n",
        "            return sum(self.grades) / len(self.grades)\n",
        "        else:\n",
        "            return 0  # Return 0 if there are no grades\n",
        "\n",
        "# Example usage\n",
        "student1 = Student(\"Alice\", [85, 90, 92, 78, 88])\n",
        "student2 = Student(\"Bob\", [])  # Student with no grades\n",
        "\n",
        "avg_grade1 = student1.average_grade()\n",
        "avg_grade2 = student2.average_grade()\n",
        "\n",
        "print(f\"{student1.name}'s average grade: {avg_grade1}\")  # Output: Alice's average"
      ],
      "cell_type": "code",
      "metadata": {
        "colab": {
          "base_uri": "https://localhost:8080/"
        },
        "id": "t8A8LwmlEPdb",
        "outputId": "bd153c79-7ce2-4fcb-b88c-225435f5972f"
      },
      "execution_count": 17,
      "outputs": [
        {
          "output_type": "stream",
          "name": "stdout",
          "text": [
            "Alice's average grade: 86.6\n"
          ]
        }
      ]
    },
    {
      "cell_type": "markdown",
      "source": [
        "Create a class Rectangle with methods set_dimensions() to set the dimensions and area() to calculate the area."
      ],
      "metadata": {
        "id": "7UETIwXCEZjO"
      }
    },
    {
      "source": [
        "class Rectangle:\n",
        "    def __init__(self, width=0, height=0):\n",
        "        self.width = width\n",
        "        self.height = height\n",
        "\n",
        "    def set_dimensions(self, width, height):\n",
        "        self.width = width\n",
        "        self.height = height\n",
        "\n",
        "    def area(self):\n",
        "        return self.width * self.height\n",
        "\n",
        "# Example usage\n",
        "rectangle = Rectangle()  # Create a rectangle with default dimensions (0, 0)\n",
        "rectangle.set_dimensions(5, 3)  # Set dimensions to width=5, height=3\n",
        "area = rectangle.area()\n",
        "print(f\"Area of the rectangle: {area}\")  # Output: Area of the rectangle: 15"
      ],
      "cell_type": "code",
      "metadata": {
        "colab": {
          "base_uri": "https://localhost:8080/"
        },
        "id": "dCYv4gUMEbxP",
        "outputId": "d241b218-079c-467b-856a-ac33fc4dddcf"
      },
      "execution_count": 18,
      "outputs": [
        {
          "output_type": "stream",
          "name": "stdout",
          "text": [
            "Area of the rectangle: 15\n"
          ]
        }
      ]
    },
    {
      "cell_type": "markdown",
      "source": [
        "Create a class Employee with a method calculate_salary() that computes the salary based on hours worked and hourly rate. Create a derived class Manager that adds a bonus to the salary."
      ],
      "metadata": {
        "id": "UmnFHgoTElvC"
      }
    },
    {
      "source": [
        "class Employee:\n",
        "    def __init__(self, name, hours_worked, hourly_rate):\n",
        "        self.name = name\n",
        "        self.hours_worked = hours_worked\n",
        "        self.hourly_rate = hourly_rate\n",
        "\n",
        "    def calculate_salary(self):\n",
        "        return self.hours_worked * self.hourly_rate\n",
        "\n",
        "class Manager(Employee):\n",
        "    def __init__(self, name, hours_worked, hourly_rate, bonus):\n",
        "        super().__init__(name, hours_worked, hourly_rate)\n",
        "        self.bonus = bonus\n",
        "\n",
        "    def calculate_salary(self):\n",
        "        base_salary = super().calculate_salary()\n",
        "        return base_salary + self.bonus\n",
        "\n",
        "# Example usage\n",
        "employee = Employee(\"Alice\", 40, 15)\n",
        "manager = Manager(\"Bob\", 40, 20, 1000)\n",
        "\n",
        "print(f\"{employee.name}'s salary: ${employee.calculate_salary()}\")  # Output: Alice's salary: $600\n",
        "print(f\"{manager.name}'s salary: ${manager.calculate_salary()}\")  # Output: Bob's salary: $1800"
      ],
      "cell_type": "code",
      "metadata": {
        "colab": {
          "base_uri": "https://localhost:8080/"
        },
        "id": "fBFClDxXEm84",
        "outputId": "615e79c7-4fb2-445f-a054-a23b6e5fe483"
      },
      "execution_count": 19,
      "outputs": [
        {
          "output_type": "stream",
          "name": "stdout",
          "text": [
            "Alice's salary: $600\n",
            "Bob's salary: $1800\n"
          ]
        }
      ]
    }
  ]
}